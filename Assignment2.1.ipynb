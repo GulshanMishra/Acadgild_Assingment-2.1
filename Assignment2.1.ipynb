{
 "cells": [
  {
   "cell_type": "code",
   "execution_count": 1,
   "metadata": {
    "collapsed": true
   },
   "outputs": [],
   "source": [
    "#Write a Python Program to implement your own myreduce() function which works exactly like Python's built-in function reduce() "
   ]
  },
  {
   "cell_type": "code",
   "execution_count": 81,
   "metadata": {},
   "outputs": [
    {
     "name": "stdout",
     "output_type": "stream",
     "text": [
      "[24, 34, 13, 145, 21]\n",
      "1.7832066513608096e-05\n",
      "1.7832066513608096e-05\n"
     ]
    }
   ],
   "source": [
    "def myreduce(operat,lst1):\n",
    "    value1=lst1[0]\n",
    "    print(lst1)\n",
    "    \n",
    "    for i in range(1,len(lst1)):\n",
    "        value1=operator(operat,value1,lst1[i])\n",
    "    return value1\n",
    "        \n",
    "        \n",
    "def operator(operat,value1,value2):\n",
    "        if (operat=='+'):\n",
    "            value1=value1+value2\n",
    "        elif (operat=='-'):\n",
    "            value1=value1-value2\n",
    "        elif (operat=='/'):\n",
    "            value1=value1/value2\n",
    "        elif (operat=='*'):\n",
    "            value1=value1*value2\n",
    "        elif (operat=='**'):\n",
    "            value1=value1**value2\n",
    "        elif (operat=='>'):\n",
    "            if value1 > value2:\n",
    "                value1=value1\n",
    "            else:\n",
    "                value1=value2\n",
    "        elif (operat=='<'):\n",
    "            if value1 < value2:\n",
    "                value1=value1\n",
    "            else:\n",
    "                value1=value2\n",
    "        return value1\n",
    "\n",
    "    \n",
    "l1=[24,34,13,145,21]    \n",
    "finallist=myreduce('+',l1)    \n",
    "\n",
    "\n",
    "print(finallist)\n",
    "\n",
    "\n",
    "from functools import reduce\n",
    "\n",
    "abc=reduce(lambda x,y:x + y,l1)\n",
    "print (abc)"
   ]
  }
 ],
 "metadata": {
  "kernelspec": {
   "display_name": "Python 3",
   "language": "python",
   "name": "python3"
  },
  "language_info": {
   "codemirror_mode": {
    "name": "ipython",
    "version": 3
   },
   "file_extension": ".py",
   "mimetype": "text/x-python",
   "name": "python",
   "nbconvert_exporter": "python",
   "pygments_lexer": "ipython3",
   "version": "3.6.4"
  }
 },
 "nbformat": 4,
 "nbformat_minor": 2
}
